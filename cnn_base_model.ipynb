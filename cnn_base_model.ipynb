{
 "cells": [
  {
   "cell_type": "markdown",
   "metadata": {},
   "source": [
    "# 3D Convolutional Neural Network\n",
    "In this notebook, we build a 3D Convolutional Neural Network to classify voxelized point cloud pairs as either \"similar\" (1) or \"dissimilar\" (0). The data consists of pairs of voxelized point clouds along with corresponding labels. We use a shared-weight Siamese architecture for this purpose.\n",
    "\n",
    "## Step 1: Import Required Libraries\n",
    "First, we need to import necessary libraries for data processing, neural network creation, and training."
   ]
  },
  {
   "cell_type": "code",
   "execution_count": 10,
   "metadata": {},
   "outputs": [],
   "source": [
    "import os\n",
    "import numpy as np\n",
    "import torch\n",
    "import torch.nn as nn\n",
    "import torch.optim as optim\n",
    "from torch.utils.data import Dataset, DataLoader\n",
    "import torch.nn.functional as F\n",
    "from sklearn.model_selection import train_test_split\n",
    "import matplotlib.pyplot as plt\n",
    "import time\n",
    "import csv\n"
   ]
  },
  {
   "cell_type": "markdown",
   "metadata": {},
   "source": [
    "## Step 2: Voxelization Function\n",
    "The following function takes a point cloud and voxelizes it into a 64x64x64 grid. This function will be used to convert the point cloud data into a format suitable for the 3D CNN."
   ]
  },
  {
   "cell_type": "code",
   "execution_count": 11,
   "metadata": {},
   "outputs": [],
   "source": [
    "def voxelize(pc):\n",
    "    # Normalize point cloud data\n",
    "    point_cloud = (pc - pc.min(axis=0)) / (pc.max(axis=0) - pc.min(axis=0))\n",
    "    voxel_size = 32\n",
    "    voxelized = np.zeros((voxel_size, voxel_size, voxel_size))\n",
    "    point_cloud = ((voxel_size - 1) * point_cloud).astype(int)\n",
    "    voxelized[point_cloud[:, 0], point_cloud[:, 1], point_cloud[:, 2]] = 1\n",
    "    return voxelized\n"
   ]
  },
  {
   "cell_type": "markdown",
   "metadata": {},
   "source": [
    "## Step 3: Custom Dataset Class\n",
    "We define a custom Dataset class that:\n",
    "- Loads pairs of voxelized point clouds from `.npy` files.\n",
    "- Uses the voxelization function to convert the point clouds.\n",
    "- Converts the voxelized data to PyTorch tensors.\n",
    "\n",
    "The dataset is loaded from the `curated_data` directory."
   ]
  },
  {
   "cell_type": "code",
   "execution_count": 12,
   "metadata": {},
   "outputs": [],
   "source": [
    "class VoxelDataset(Dataset):\n",
    "    def __init__(self, file_list, data_directory, subset_size=None):\n",
    "        self.data_directory = data_directory\n",
    "        self.file_list = file_list\n",
    "        if subset_size is not None:\n",
    "            self.file_list = self.file_list[:subset_size]  # Use only a subset of files \n",
    "\n",
    "    def __len__(self):\n",
    "        return len(self.file_list)\n",
    "\n",
    "    def __getitem__(self, idx):\n",
    "        file_path = os.path.join(self.data_directory, self.file_list[idx])\n",
    "        data = np.load(file_path, allow_pickle=True)\n",
    "        part1, part2, label = data\n",
    "\n",
    "        # Voxelizing the point clouds\n",
    "        voxel1 = voxelize(part1)\n",
    "        voxel2 = voxelize(part2)\n",
    "\n",
    "        # Convert to tensors\n",
    "        voxel1 = torch.tensor(voxel1, dtype=torch.float32).unsqueeze(0)  # Add channel dimension\n",
    "        voxel2 = torch.tensor(voxel2, dtype=torch.float32).unsqueeze(0)  # Add channel dimension\n",
    "        label = torch.tensor(label, dtype=torch.float32)\n",
    "\n",
    "        return voxel1, voxel2, label"
   ]
  },
  {
   "cell_type": "markdown",
   "metadata": {},
   "source": [
    "## Step 4: Split the Dataset into Training, Validation, and Test Sets\n",
    "We split the dataset into **70% training**, **15% validation**, and **15% test** to evaluate model performance effectively."
   ]
  },
  {
   "cell_type": "code",
   "execution_count": 13,
   "metadata": {},
   "outputs": [],
   "source": [
    "# Define data directory\n",
    "data_directory = os.path.join(os.getcwd(), \"curated_data/\")\n",
    "\n",
    "# Get all files in the directory\n",
    "all_files = [f for f in os.listdir(data_directory) if f.endswith('.npy')]\n",
    "\n",
    "# Split data into train, validation, and test sets\n",
    "# Tunable:\n",
    "# train_test_split `test_size`: Controls the proportion of data used for validation and test sets.\n",
    "# A smaller test_size keeps more data for training, which may improve model learning at the cost of less validation data.\n",
    "train_files, test_files = train_test_split(all_files, test_size=0.3, random_state=42)\n",
    "val_files, test_files = train_test_split(test_files, test_size=0.5, random_state=42)  # Further split to validation and test\n",
    "\n",
    "# Create Dataset instances\n",
    "# Corrected to pass the list of filenames along with the directory path\n",
    "train_dataset = VoxelDataset(train_files, data_directory)  # Pass list of training files and the directory path\n",
    "val_dataset = VoxelDataset(val_files, data_directory)      # Pass list of validation files and the directory path\n",
    "test_dataset = VoxelDataset(test_files, data_directory)    # Pass list of test files and the directory path\n",
    "\n",
    "# Create DataLoaders for each dataset\n",
    "batch_size = 128 # Tunable parameter: Increasing batch size can improve efficiency, but requires more memory.\n",
    "train_loader = DataLoader(train_dataset, batch_size=batch_size, shuffle=True)\n",
    "val_loader = DataLoader(val_dataset, batch_size=batch_size, shuffle=False)\n",
    "test_loader = DataLoader(test_dataset, batch_size=batch_size, shuffle=False)\n"
   ]
  },
  {
   "cell_type": "markdown",
   "metadata": {},
   "source": [
    "## Step 5: 3D Encoder Module\n",
    "We define the 3D Encoder model that:\n",
    "- Uses 3D convolutional layers to extract features from the voxelized input.\n",
    "- Contains several layers and prints the shape after each layer for debugging purposes."
   ]
  },
  {
   "cell_type": "code",
   "execution_count": 14,
   "metadata": {},
   "outputs": [],
   "source": [
    "class Encoder3D(nn.Module):\n",
    "    def __init__(self):\n",
    "        super(Encoder3D, self).__init__()\n",
    "        self.conv1 = nn.Conv3d(1, 4, kernel_size=3, stride=1, padding=1) # Tunable: Number of filters (4). More filters may capture more features but are computationally expensive. Make changes in progressions like 2, 4, 8, 16, 32,...\n",
    "        self.conv2 = nn.Conv3d(4, 8, kernel_size=3, stride=2, padding=1)  # Tunable: Number of filters (8). Increasing may improve feature extraction at the cost of increased computation.\n",
    "        #self.conv3 = nn.Conv3d(16, 32, kernel_size=3, stride=2, padding=1)\n",
    "        self.fc = nn.Linear(8 * 16 * 16 * 16, 32)  # Tunable: Output features (32). Increasing this can capture more complex relationships but increases model complexity.\n",
    "\n",
    "        self.first_forward = True  # Flag to track the first forward pass\n",
    "    def forward(self, x):\n",
    "        x = F.relu(self.conv1(x))\n",
    "        if self.first_forward:\n",
    "            print(f\"Shape after conv1: {x.shape}\")\n",
    "        x = F.relu(self.conv2(x))\n",
    "        if self.first_forward:\n",
    "            print(f\"Shape after conv2: {x.shape}\")\n",
    "        x = x.view(x.size(0), -1)  # Flatten for the fully connected layer\n",
    "        if self.first_forward:\n",
    "            print(f\"Shape after flattening: {x.shape}\")\n",
    "        x = self.fc(x)\n",
    "        if self.first_forward:\n",
    "            print(f\"Shape after fc: {x.shape}\")\n",
    "            self.first_forward = False  # Disable further shape printing after the first forward pass\n",
    "        return x\n",
    "\n"
   ]
  },
  {
   "cell_type": "markdown",
   "metadata": {},
   "source": [
    "## Step 6: Siamese Network for Pair Comparison\n",
    "The Siamese Network is built using two instances of the shared encoder. It compares the output of both encoders using L1 distance and computes a similarity score."
   ]
  },
  {
   "cell_type": "code",
   "execution_count": 15,
   "metadata": {},
   "outputs": [],
   "source": [
    "class Siamese3DCNN(nn.Module):\n",
    "    def __init__(self):\n",
    "        super(Siamese3DCNN, self).__init__()\n",
    "        self.encoder = Encoder3D()\n",
    "        self.fc_out = nn.Linear(32, 1)  # Tunable: Number of input features (32). Match this to the output of the encoder.\n",
    "        \n",
    "\n",
    "    def forward(self, voxel1, voxel2):\n",
    "        encoded1 = self.encoder(voxel1)\n",
    "        encoded2 = self.encoder(voxel2)\n",
    "\n",
    "        # Compute the L1 distance between the two encoded vectors\n",
    "        combined = torch.abs(encoded1 - encoded2)\n",
    "\n",
    "        # Pass through fully connected layer to get a single value\n",
    "        output = self.fc_out(combined)\n",
    "\n",
    "        # Apply sigmoid to produce a probability output\n",
    "        output = torch.sigmoid(output)\n",
    "\n",
    "        return output\n",
    "\n"
   ]
  },
  {
   "cell_type": "markdown",
   "metadata": {},
   "source": [
    "## Step 7: Training Setup\n",
    "We define the training function to train the Siamese network. It uses Binary Cross Entropy Loss (BCE Loss) to classify the similarity.\n",
    "\n",
    "We include a **validation phase** at the end of each training epoch to monitor the model's performance.\n",
    "Training and validation losses are stored for graphing.\n"
   ]
  },
  {
   "cell_type": "code",
   "execution_count": 16,
   "metadata": {},
   "outputs": [
    {
     "name": "stdout",
     "output_type": "stream",
     "text": [
      "Shape after conv1: torch.Size([128, 4, 32, 32, 32])\n",
      "Shape after conv2: torch.Size([128, 8, 16, 16, 16])\n",
      "Shape after flattening: torch.Size([128, 32768])\n",
      "Shape after fc: torch.Size([128, 32])\n",
      "\n",
      "Epoch [1/5], Training Loss: 0.300483, Time Taken: 154.32s\n",
      "Epoch [1/5], Validation Loss: 0.214384, Validation Time Taken: 13.27s\n",
      "\n",
      "Epoch [2/5], Training Loss: 0.114065, Time Taken: 152.15s\n",
      "Epoch [2/5], Validation Loss: 0.180350, Validation Time Taken: 13.34s\n",
      "\n",
      "Epoch [3/5], Training Loss: 0.087304, Time Taken: 150.63s\n",
      "Epoch [3/5], Validation Loss: 0.183327, Validation Time Taken: 13.21s\n",
      "\n",
      "Epoch [4/5], Training Loss: 0.044786, Time Taken: 152.05s\n",
      "Epoch [4/5], Validation Loss: 0.226853, Validation Time Taken: 13.36s\n",
      "\n",
      "Epoch [5/5], Training Loss: 0.034629, Time Taken: 151.50s\n",
      "Epoch [5/5], Validation Loss: 0.233947, Validation Time Taken: 13.57s\n",
      "Model saved to 3d_cnn_model.pth\n"
     ]
    }
   ],
   "source": [
    "def train_model_with_validation(num_epochs, learning_rate, batch_size, validate_every_n_epochs):\n",
    "    model = Siamese3DCNN()\n",
    "    criterion = nn.BCELoss() # Tunable: Loss function. Experimenting with other losses (e.g., MSELoss) could impact model behavior.\n",
    "    optimizer = optim.Adam(model.parameters(), lr=learning_rate) # Tunable: Trying other optimizers (e.g., SGD) can change convergence behavior.\n",
    "\n",
    "    # Lists to store losses for graphing\n",
    "    training_losses = []\n",
    "    validation_losses = []\n",
    "\n",
    "    # Updated DataLoader with increased batch size and more workers for data loading\n",
    "    train_loader = DataLoader(train_dataset, batch_size=batch_size, shuffle=True)  \n",
    "    val_loader = DataLoader(val_dataset, batch_size=batch_size, shuffle=False)\n",
    "\n",
    "    for epoch in range(num_epochs):\n",
    "        # Training Phase\n",
    "        model.train()\n",
    "        train_loss = 0.0\n",
    "        start_time = time.time()\n",
    "\n",
    "        for voxel1, voxel2, labels in train_loader:\n",
    "            optimizer.zero_grad()\n",
    "            outputs = model(voxel1, voxel2)\n",
    "            labels = labels.view(-1, 1)  # Ensure labels match output shape\n",
    "            loss = criterion(outputs, labels)\n",
    "            loss.backward()\n",
    "            optimizer.step()\n",
    "            train_loss += loss.item()\n",
    "\n",
    "        avg_train_loss = train_loss / len(train_loader)\n",
    "        training_losses.append(avg_train_loss)\n",
    "        end_time = time.time()\n",
    "        print(f\"\\nEpoch [{epoch + 1}/{num_epochs}], Training Loss: {avg_train_loss:.6f}, Time Taken: {end_time - start_time:.2f}s\")\n",
    "\n",
    "        # Validation Phase (every N epochs)\n",
    "        if (epoch + 1) % validate_every_n_epochs == 0: # Tunable: Frequency of validation checks\n",
    "            model.eval()\n",
    "            val_loss = 0.0\n",
    "            start_time = time.time()\n",
    "\n",
    "            with torch.no_grad():\n",
    "                for voxel1, voxel2, labels in val_loader:\n",
    "                    outputs = model(voxel1, voxel2)\n",
    "                    labels = labels.view(-1, 1)  # Ensure labels match output shape\n",
    "                    loss = criterion(outputs, labels)\n",
    "                    val_loss += loss.item()\n",
    "\n",
    "            avg_val_loss = val_loss / len(val_loader)\n",
    "            validation_losses.append(avg_val_loss)\n",
    "            end_time = time.time()\n",
    "            print(f\"Epoch [{epoch + 1}/{num_epochs}], Validation Loss: {avg_val_loss:.6f}, Validation Time Taken: {end_time - start_time:.2f}s\")\n",
    "    \n",
    "    # Save the trained model\n",
    "    model_save_path = \"3d_cnn_model.pth\"  # Filepath where model will be saved\n",
    "    torch.save(model.state_dict(), model_save_path)\n",
    "    print(f\"Model saved to {model_save_path}\")\n",
    "\n",
    "    return model, training_losses, validation_losses\n",
    "\n",
    "# Tunable parameters:\n",
    "    # `num_epochs`: Increasing number of epochs gives the model more opportunities to learn but risks overfitting.\n",
    "    # `learning_rate`: A smaller learning rate (0.001) helps the model converge slowly and stably. Higher rates (e.g., 0.01) may lead to faster but unstable convergence.\n",
    "    # `batch_size`: Larger batch sizes help with convergence and are faster but need more memory.\n",
    "    # `validate_every_n_epochs`: Controls how often to validate. Less frequent validation speeds up training.\n",
    "# Run the training with updated parameters\n",
    "model, training_losses, validation_losses = train_model_with_validation(num_epochs=5, learning_rate=0.001, batch_size=128, validate_every_n_epochs=1)"
   ]
  },
  {
   "cell_type": "markdown",
   "metadata": {},
   "source": [
    "## Step 8: Run Training\n",
    "Now, we can train the model using the dataset. Make sure to specify the correct data directory.\n",
    "Plot the losses recorded during training and validation to visualize how the model's performance evolves over time."
   ]
  },
  {
   "cell_type": "code",
   "execution_count": 17,
   "metadata": {},
   "outputs": [
    {
     "data": {
      "image/png": "[encoded data removed]",
      "text/plain": [
       "<Figure size 1000x500 with 1 Axes>"
      ]
     },
     "metadata": {},
     "output_type": "display_data"
    }
   ],
   "source": [
    "# Plot the training and validation losses\n",
    "plt.figure(figsize=(10, 5))\n",
    "plt.plot(range(1, len(training_losses) + 1), training_losses, label='Training Loss')\n",
    "plt.plot(range(1, len(validation_losses) + 1), validation_losses, label='Validation Loss')\n",
    "plt.xlabel('Epoch')\n",
    "plt.ylabel('Loss')\n",
    "plt.title('Training and Validation Losses')\n",
    "plt.legend()\n",
    "plt.grid(True)\n",
    "plt.show()"
   ]
  }
 ],
 "metadata": {
  "kernelspec": {
   "display_name": ".venv",
   "language": "python",
   "name": "python3"
  },
  "language_info": {
   "codemirror_mode": {
    "name": "ipython",
    "version": 3
   },
   "file_extension": ".py",
   "mimetype": "text/x-python",
   "name": "python",
   "nbconvert_exporter": "python",
   "pygments_lexer": "ipython3",
   "version": "3.11.5"
  }
 },
 "nbformat": 4,
 "nbformat_minor": 2
}
